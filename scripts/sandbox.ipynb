{
 "cells": [
  {
   "cell_type": "code",
   "execution_count": 3,
   "metadata": {},
   "outputs": [
    {
     "ename": "TypeError",
     "evalue": "cannot unpack non-iterable int object",
     "output_type": "error",
     "traceback": [
      "\u001b[0;31m---------------------------------------------------------------------------\u001b[0m",
      "\u001b[0;31mTypeError\u001b[0m                                 Traceback (most recent call last)",
      "Cell \u001b[0;32mIn[3], line 9\u001b[0m\n\u001b[1;32m      5\u001b[0m get_ipython()\u001b[39m.\u001b[39mrun_line_magic(\u001b[39m'\u001b[39m\u001b[39mmatplotlib\u001b[39m\u001b[39m'\u001b[39m, \u001b[39m'\u001b[39m\u001b[39mwidget\u001b[39m\u001b[39m'\u001b[39m)\n\u001b[1;32m      6\u001b[0m \u001b[39m# with open(data_file) as f:\u001b[39;00m\n\u001b[1;32m      7\u001b[0m \u001b[39m#     for line in f:\u001b[39;00m\n\u001b[1;32m      8\u001b[0m \u001b[39m#         point_list.append([float(f) for f in (line.split(\",\"))])\u001b[39;00m\n\u001b[0;32m----> 9\u001b[0m [a] , b \u001b[39m=\u001b[39m (\u001b[39m1\u001b[39m , \u001b[39m2\u001b[39m)\n\u001b[1;32m     10\u001b[0m plt\u001b[39m.\u001b[39mgca()\u001b[39m.\u001b[39mcla()\n\u001b[1;32m     11\u001b[0m road_file \u001b[39m=\u001b[39m Path\u001b[39m.\u001b[39mjoinpath(Path\u001b[39m.\u001b[39mcwd()\u001b[39m.\u001b[39mparent , \u001b[39m\"\u001b[39m\u001b[39mdata\u001b[39m\u001b[39m\"\u001b[39m, \u001b[39m\"\u001b[39m\u001b[39mFinsAndThings_2d.asc\u001b[39m\u001b[39m\"\u001b[39m)\n",
      "\u001b[0;31mTypeError\u001b[0m: cannot unpack non-iterable int object"
     ]
    }
   ],
   "source": [
    "import flexring as flx\n",
    "from pathlib import Path\n",
    "import numpy as np\n",
    "import matplotlib.pyplot as plt \n",
    "%matplotlib widget\n",
    "# with open(data_file) as f:\n",
    "#     for line in f:\n",
    "#         point_list.append([float(f) for f in (line.split(\",\"))])\n",
    "[a] , b = (1 , 2)\n",
    "plt.gca().cla()\n",
    "road_file = Path.joinpath(Path.cwd().parent , \"data\", \"FinsAndThings_2d.asc\")\n",
    "road = flx.Road.make_road_from_file(file_name=road_file, step_size=0.1)\n",
    "#road.draw()\n",
    "road.draw()\n",
    "plt.show()"
   ]
  }
 ],
 "metadata": {
  "kernelspec": {
   "display_name": "venv",
   "language": "python",
   "name": "python3"
  },
  "language_info": {
   "codemirror_mode": {
    "name": "ipython",
    "version": 3
   },
   "file_extension": ".py",
   "mimetype": "text/x-python",
   "name": "python",
   "nbconvert_exporter": "python",
   "pygments_lexer": "ipython3",
   "version": "3.9.6"
  },
  "orig_nbformat": 4
 },
 "nbformat": 4,
 "nbformat_minor": 2
}
