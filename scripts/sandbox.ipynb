{
 "cells": [
  {
   "cell_type": "code",
   "execution_count": 3,
   "metadata": {},
   "outputs": [
    {
     "ename": "TypeError",
     "evalue": "'NoneType' object is not subscriptable",
     "output_type": "error",
     "traceback": [
      "\u001b[0;31m---------------------------------------------------------------------------\u001b[0m",
      "\u001b[0;31mTypeError\u001b[0m                                 Traceback (most recent call last)",
      "Cell \u001b[0;32mIn[3], line 2\u001b[0m\n\u001b[1;32m      1\u001b[0m \u001b[39mimport\u001b[39;00m \u001b[39mflexring\u001b[39;00m \u001b[39mas\u001b[39;00m \u001b[39mflx\u001b[39;00m\n\u001b[0;32m----> 2\u001b[0m road \u001b[39m=\u001b[39m flx\u001b[39m.\u001b[39;49mRoad\u001b[39m.\u001b[39;49mmake_random_road(length\u001b[39m=\u001b[39;49m\u001b[39m5\u001b[39;49m, smallest_wave_length\u001b[39m=\u001b[39;49m\u001b[39m0.3\u001b[39;49m, frequency_scale\u001b[39m=\u001b[39;49m\u001b[39m1\u001b[39;49m)\n",
      "File \u001b[0;32m~/phd/kerb_impact_sim/scripts/flexring.py:151\u001b[0m, in \u001b[0;36mRoad.make_random_road\u001b[0;34m(length, smallest_wave_length, frequency_scale, seed, max_range)\u001b[0m\n\u001b[1;32m    145\u001b[0m \u001b[39m@staticmethod\u001b[39m\n\u001b[1;32m    146\u001b[0m \u001b[39mdef\u001b[39;00m \u001b[39mmake_random_road\u001b[39m(length,\n\u001b[1;32m    147\u001b[0m                      smallest_wave_length,\n\u001b[1;32m    148\u001b[0m                      frequency_scale \u001b[39m=\u001b[39m \u001b[39m1\u001b[39m,\n\u001b[1;32m    149\u001b[0m                      seed\u001b[39m=\u001b[39m \u001b[39mNone\u001b[39;00m,\n\u001b[1;32m    150\u001b[0m                      max_range \u001b[39m=\u001b[39m \u001b[39mNone\u001b[39;00m):\n\u001b[0;32m--> 151\u001b[0m     road \u001b[39m=\u001b[39m Road(length\u001b[39m=\u001b[39;49mlength, high_res\u001b[39m=\u001b[39;49m\u001b[39mTrue\u001b[39;49;00m)\n\u001b[1;32m    152\u001b[0m     road\u001b[39m.\u001b[39mx \u001b[39m=\u001b[39m np\u001b[39m.\u001b[39marange(\u001b[39m0\u001b[39m , length, \u001b[39m0.01\u001b[39m)\n\u001b[1;32m    153\u001b[0m     road\u001b[39m.\u001b[39my \u001b[39m=\u001b[39m np\u001b[39m.\u001b[39mzeros(\u001b[39mlen\u001b[39m(road\u001b[39m.\u001b[39mx))\n",
      "File \u001b[0;32m~/phd/kerb_impact_sim/scripts/flexring.py:101\u001b[0m, in \u001b[0;36mRoad.__init__\u001b[0;34m(self, length, high_res)\u001b[0m\n\u001b[1;32m     99\u001b[0m \u001b[39mself\u001b[39m\u001b[39m.\u001b[39mhigh_res \u001b[39m=\u001b[39m high_res\n\u001b[1;32m    100\u001b[0m \u001b[39mself\u001b[39m\u001b[39m.\u001b[39mrandom_profile_seed \u001b[39m=\u001b[39m \u001b[39mNone\u001b[39;00m\n\u001b[0;32m--> 101\u001b[0m \u001b[39mself\u001b[39m\u001b[39m.\u001b[39mstart_node \u001b[39m=\u001b[39m Road\u001b[39m.\u001b[39;49mNode(idx \u001b[39m=\u001b[39;49m \u001b[39m0\u001b[39;49m,road\u001b[39m=\u001b[39;49m\u001b[39mself\u001b[39;49m)\n\u001b[1;32m    102\u001b[0m \u001b[39mself\u001b[39m\u001b[39m.\u001b[39mstart_section \u001b[39m=\u001b[39m Road\u001b[39m.\u001b[39mSection(number\u001b[39m=\u001b[39m\u001b[39m0\u001b[39m,start_node\u001b[39m=\u001b[39m\u001b[39mself\u001b[39m\u001b[39m.\u001b[39mstart_node)\n",
      "File \u001b[0;32m~/phd/kerb_impact_sim/scripts/flexring.py:174\u001b[0m, in \u001b[0;36mRoad.Node.__init__\u001b[0;34m(self, idx, road, prev)\u001b[0m\n\u001b[1;32m    169\u001b[0m \u001b[39mdef\u001b[39;00m \u001b[39m__init__\u001b[39m(\u001b[39mself\u001b[39m,\n\u001b[1;32m    170\u001b[0m              idx,\n\u001b[1;32m    171\u001b[0m              road,\n\u001b[1;32m    172\u001b[0m              prev\u001b[39m=\u001b[39m \u001b[39mNone\u001b[39;00m) \u001b[39m-\u001b[39m\u001b[39m>\u001b[39m \u001b[39mNone\u001b[39;00m:\n\u001b[1;32m    173\u001b[0m     \u001b[39mself\u001b[39m\u001b[39m.\u001b[39msection:Road\u001b[39m.\u001b[39mSection \u001b[39m=\u001b[39m \u001b[39mNone\u001b[39;00m\n\u001b[0;32m--> 174\u001b[0m     \u001b[39mself\u001b[39m\u001b[39m.\u001b[39mposistion:Vector2 \u001b[39m=\u001b[39m road\u001b[39m.\u001b[39;49mpoints[idx]\n\u001b[1;32m    175\u001b[0m     \u001b[39mself\u001b[39m\u001b[39m.\u001b[39mprev \u001b[39m=\u001b[39m prev\n\u001b[1;32m    176\u001b[0m     \u001b[39mself\u001b[39m\u001b[39m.\u001b[39midx \u001b[39m=\u001b[39m idx\n",
      "\u001b[0;31mTypeError\u001b[0m: 'NoneType' object is not subscriptable"
     ]
    }
   ],
   "source": [
    "import flexring as flx\n",
    "road = flx.Road.make_random_road(length=5, smallest_wave_length=0.3, frequency_scale=1)"
   ]
  }
 ],
 "metadata": {
  "kernelspec": {
   "display_name": "venv",
   "language": "python",
   "name": "python3"
  },
  "language_info": {
   "codemirror_mode": {
    "name": "ipython",
    "version": 3
   },
   "file_extension": ".py",
   "mimetype": "text/x-python",
   "name": "python",
   "nbconvert_exporter": "python",
   "pygments_lexer": "ipython3",
   "version": "3.9.6"
  },
  "orig_nbformat": 4
 },
 "nbformat": 4,
 "nbformat_minor": 2
}
